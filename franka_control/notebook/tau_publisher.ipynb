{
 "cells": [
  {
   "cell_type": "code",
   "execution_count": null,
   "metadata": {},
   "outputs": [],
   "source": [
    "#!/usr/bin/env julia\n",
    "\n",
    "# chmod a+x script.jl\n",
    "# rosrun as usual\n",
    "\n",
    "using RobotOS\n",
    "@rosimport franka_example_controllers.msg: JointTorqueComparison\n",
    "@rosimport franka_msgs.msg: FrankaState\n",
    "rostypegen()"
   ]
  },
  {
   "cell_type": "code",
   "execution_count": null,
   "metadata": {},
   "outputs": [],
   "source": [
    "function callback(msg::franka_msgs.msg.FrankaState)\n",
    "    loginfo(FrankaState.q[0])\n",
    "end\n",
    "\n",
    "function loop(pub_obj)\n",
    "    loop_rate = Rate(1000.0)\n",
    "    while ! is_shutdown()\n",
    "        torqueMsg = franka_example_controllers.msg.JointTorqueComparison()\n",
    "        for i = 1 : length(7)\n",
    "            torqueMsg.tau_commanded[i] = 0.0\n",
    "        end\n",
    "        publish(pub_obj, torqueMsg)\n",
    "    end\n",
    "end\n",
    "\n",
    "function main()\n",
    "    init_node(\"torque_pub\")\n",
    "    pub = Publisher{franka_example_controllers.msg.JointTorqueComparison}(\"torque_cmd\", queue_size=1)\n",
    "    sub = Subscriber{franka_msgs.msg.FrankaState}(\"franka_state\", callback, (pub,), queue_size=10)\n",
    "    loop(pub)\n",
    "end\n"
   ]
  },
  {
   "cell_type": "code",
   "execution_count": 5,
   "metadata": {},
   "outputs": [],
   "source": [
    "main()"
   ]
  },
  {
   "cell_type": "code",
   "execution_count": null,
   "metadata": {},
   "outputs": [],
   "source": []
  }
 ],
 "metadata": {
  "kernelspec": {
   "display_name": "Julia 1.1.0",
   "language": "julia",
   "name": "julia-1.1"
  },
  "language_info": {
   "file_extension": ".jl",
   "mimetype": "application/julia",
   "name": "julia",
   "version": "1.1.0"
  }
 },
 "nbformat": 4,
 "nbformat_minor": 2
}
