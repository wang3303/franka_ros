{
 "cells": [
  {
   "cell_type": "code",
   "execution_count": 1,
   "metadata": {},
   "outputs": [
    {
     "name": "stderr",
     "output_type": "stream",
     "text": [
      "┌ Info: Precompiling RobotOS [22415677-39a4-5241-a37a-00beabbbdae8]\n",
      "└ @ Base loading.jl:1192\n",
      "┌ Warning: `setindex!(o::PyObject, v, s::Union{Symbol, AbstractString})` is deprecated in favor of `setproperty!(o, s, v)`.\n",
      "│   caller = __init__() at RobotOS.jl:21\n",
      "└ @ RobotOS /Users/xinrui/.julia/packages/RobotOS/FDNg2/src/RobotOS.jl:21\n",
      "┌ Warning: `getindex(o::PyObject, s::AbstractString)` is deprecated in favor of dot overloading (`getproperty`) so elements should now be accessed as e.g. `o.\"s\"` instead of `o[\"s\"]`.\n",
      "│   caller = __init__() at RobotOS.jl:24\n",
      "└ @ RobotOS /Users/xinrui/.julia/packages/RobotOS/FDNg2/src/RobotOS.jl:24\n",
      "┌ Warning: `getindex(o::PyObject, s::AbstractString)` is deprecated in favor of dot overloading (`getproperty`) so elements should now be accessed as e.g. `o.\"s\"` instead of `o[\"s\"]`.\n",
      "│   caller = __init__() at RobotOS.jl:25\n",
      "└ @ RobotOS /Users/xinrui/.julia/packages/RobotOS/FDNg2/src/RobotOS.jl:25\n"
     ]
    },
    {
     "ename": "InitError",
     "evalue": "InitError: PyError (PyImport_ImportModule\n\nThe Python package rospy could not be found by pyimport. Usually this means\nthat you did not install rospy in the Python version being used by PyCall.\n\nPyCall is currently configured to use the Julia-specific Python distribution\ninstalled by the Conda.jl package.  To install the rospy module, you can\nuse `pyimport_conda(\"rospy\", PKG)`, where PKG is the Anaconda\npackage the contains the module rospy, or alternatively you can use the\nConda package directly (via `using Conda` followed by `Conda.add` etcetera).\n\nAlternatively, if you want to use a different Python distribution on your\nsystem, such as a system-wide Python (as opposed to the Julia-specific Python),\nyou can re-configure PyCall with that Python.   As explained in the PyCall\ndocumentation, set ENV[\"PYTHON\"] to the path/name of the python executable\nyou want to use, run Pkg.build(\"PyCall\"), and re-launch Julia.\n\n) <class 'ModuleNotFoundError'>\nModuleNotFoundError(\"No module named 'rospy'\")\n\nduring initialization of module RobotOS",
     "output_type": "error",
     "traceback": [
      "InitError: PyError (PyImport_ImportModule\n\nThe Python package rospy could not be found by pyimport. Usually this means\nthat you did not install rospy in the Python version being used by PyCall.\n\nPyCall is currently configured to use the Julia-specific Python distribution\ninstalled by the Conda.jl package.  To install the rospy module, you can\nuse `pyimport_conda(\"rospy\", PKG)`, where PKG is the Anaconda\npackage the contains the module rospy, or alternatively you can use the\nConda package directly (via `using Conda` followed by `Conda.add` etcetera).\n\nAlternatively, if you want to use a different Python distribution on your\nsystem, such as a system-wide Python (as opposed to the Julia-specific Python),\nyou can re-configure PyCall with that Python.   As explained in the PyCall\ndocumentation, set ENV[\"PYTHON\"] to the path/name of the python executable\nyou want to use, run Pkg.build(\"PyCall\"), and re-launch Julia.\n\n) <class 'ModuleNotFoundError'>\nModuleNotFoundError(\"No module named 'rospy'\")\n\nduring initialization of module RobotOS",
      "",
      "Stacktrace:",
      " [1] pyimport(::String) at /Users/xinrui/.julia/packages/PyCall/a5Jd3/src/PyCall.jl:544",
      " [2] __init__() at /Users/xinrui/.julia/packages/RobotOS/FDNg2/src/RobotOS.jl:30",
      " [3] _include_from_serialized(::String, ::Array{Any,1}) at ./loading.jl:633",
      " [4] _require_from_serialized(::String) at ./loading.jl:684",
      " [5] _require(::Base.PkgId) at ./loading.jl:967",
      " [6] require(::Base.PkgId) at ./loading.jl:858",
      " [7] require(::Module, ::Symbol) at ./loading.jl:853",
      " [8] top-level scope at In[1]:1"
     ]
    }
   ],
   "source": [
    "#!/usr/bin/env julia\n",
    "\n",
    "# chmod a+x script.jl\n",
    "# rosrun as usual\n",
    "\n",
    "using RobotOS\n",
    "@rosimport franka_example_controllers.msg: JointTorqueComparison\n",
    "@rosimport franka_msgs.msg: FrankaState\n",
    "rostypegen()\n",
    "using franka_example_controllers.msg\n",
    "using franka_msgs.msg\n",
    "\n",
    "function callback(msg::FrankaState)\n",
    "    loginfo(FrankaState.q[0])\n",
    "end\n",
    "\n",
    "function loop(pub_obj)\n",
    "    loop_rate = Rate(1000.0)\n",
    "    while ! is_shutdown()\n",
    "        torqueMsg = JointTorqueComparison()\n",
    "        for i = 1 : length(7):\n",
    "            torqueMsg.tau_command[i] = 0.0\n",
    "        end\n",
    "        publish(pub_obj, torqueMsg)\n",
    "    end\n",
    "end\n",
    "\n",
    "function main()\n",
    "    init_node(\"torque_pub\")\n",
    "    pub = Publisher{JointTorqueComparison}(\"pts\", queue_size=1)\n",
    "    sub = Subscriber{FrankaState}(\"pose\", callback, (pub,), queue_size=10)\n",
    "    loop(pub)\n",
    "end\n",
    "\n",
    "# if ! isinteractive()\n",
    "#     main()\n",
    "# end"
   ]
  },
  {
   "cell_type": "code",
   "execution_count": null,
   "metadata": {},
   "outputs": [],
   "source": []
  }
 ],
 "metadata": {
  "kernelspec": {
   "display_name": "Julia 1.0.3",
   "language": "julia",
   "name": "julia-1.0"
  },
  "language_info": {
   "file_extension": ".jl",
   "mimetype": "application/julia",
   "name": "julia",
   "version": "1.0.3"
  }
 },
 "nbformat": 4,
 "nbformat_minor": 2
}
