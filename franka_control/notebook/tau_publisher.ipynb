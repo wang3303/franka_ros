{
 "cells": [
  {
   "cell_type": "code",
   "execution_count": 1,
   "metadata": {},
   "outputs": [
    {
     "name": "stderr",
     "output_type": "stream",
     "text": [
      "┌ Warning: `setindex!(o::PyObject, v, s::Union{Symbol, AbstractString})` is deprecated in favor of `setproperty!(o, s, v)`.\n",
      "│   caller = __init__() at RobotOS.jl:21\n",
      "└ @ RobotOS /home/franka/.julia/packages/RobotOS/FDNg2/src/RobotOS.jl:21\n",
      "┌ Warning: `getindex(o::PyObject, s::AbstractString)` is deprecated in favor of dot overloading (`getproperty`) so elements should now be accessed as e.g. `o.\"s\"` instead of `o[\"s\"]`.\n",
      "│   caller = __init__() at RobotOS.jl:24\n",
      "└ @ RobotOS /home/franka/.julia/packages/RobotOS/FDNg2/src/RobotOS.jl:24\n",
      "┌ Warning: `getindex(o::PyObject, s::AbstractString)` is deprecated in favor of dot overloading (`getproperty`) so elements should now be accessed as e.g. `o.\"s\"` instead of `o[\"s\"]`.\n",
      "│   caller = __init__() at RobotOS.jl:25\n",
      "└ @ RobotOS /home/franka/.julia/packages/RobotOS/FDNg2/src/RobotOS.jl:25\n",
      "┌ Warning: `getindex(o::PyObject, s::AbstractString)` is deprecated in favor of dot overloading (`getproperty`) so elements should now be accessed as e.g. `o.\"s\"` instead of `o[\"s\"]`.\n",
      "│   caller = _pyvars(::String, ::String) at gentypes.jl:225\n",
      "└ @ RobotOS /home/franka/.julia/packages/RobotOS/FDNg2/src/gentypes.jl:225\n",
      "┌ Warning: `getindex(o::PyObject, s::Symbol)` is deprecated in favor of dot overloading (`getproperty`) so elements should now be accessed as e.g. `o.s` instead of `o[:s]`.\n",
      "│   caller = addtype!(::RobotOS.ROSMsgModule, ::String) at gentypes.jl:186\n",
      "└ @ RobotOS /home/franka/.julia/packages/RobotOS/FDNg2/src/gentypes.jl:186\n",
      "┌ Warning: `getindex(o::PyObject, s::Symbol)` is deprecated in favor of dot overloading (`getproperty`) so elements should now be accessed as e.g. `o.s` instead of `o[:s]`.\n",
      "│   caller = buildtype(::RobotOS.ROSMsgModule, ::String) at gentypes.jl:393\n",
      "└ @ RobotOS /home/franka/.julia/packages/RobotOS/FDNg2/src/gentypes.jl:393\n",
      "┌ Warning: `getindex(o::PyObject, s::Symbol)` is deprecated in favor of dot overloading (`getproperty`) so elements should now be accessed as e.g. `o.s` instead of `o[:s]`.\n",
      "│   caller = buildtype(::RobotOS.ROSMsgModule, ::String) at gentypes.jl:394\n",
      "└ @ RobotOS /home/franka/.julia/packages/RobotOS/FDNg2/src/gentypes.jl:394\n"
     ]
    }
   ],
   "source": [
    "#!/usr/bin/env julia\n",
    "\n",
    "# chmod a+x script.jl\n",
    "# rosrun as usual\n",
    "\n",
    "using RobotOS\n",
    "@rosimport franka_example_controllers.msg: JointTorqueComparison\n",
    "@rosimport franka_msgs.msg: FrankaState\n",
    "rostypegen()"
   ]
  },
  {
   "cell_type": "code",
   "execution_count": 2,
   "metadata": {},
   "outputs": [
    {
     "data": {
      "text/plain": [
       "main (generic function with 1 method)"
      ]
     },
     "execution_count": 2,
     "metadata": {},
     "output_type": "execute_result"
    }
   ],
   "source": [
    "function callback(msg::franka_msgs.msg.FrankaState)\n",
    "    loginfo(FrankaState.q[0])\n",
    "end\n",
    "\n",
    "function loop(pub_obj)\n",
    "    loop_rate = Rate(1000.0)\n",
    "    while ! is_shutdown()\n",
    "        torqueMsg = franka_example_controllers.msg.JointTorqueComparison()\n",
    "        for i = 1 : length(7)\n",
    "            torqueMsg.tau_commanded[i] = 0.0\n",
    "        end\n",
    "        torqueMsg.tau_commanded[5] = 1.0\n",
    "        publish(pub_obj, torqueMsg)\n",
    "    end\n",
    "end\n",
    "\n",
    "function main()\n",
    "    init_node(\"torque_pub\")\n",
    "    pub = Publisher{franka_example_controllers.msg.JointTorqueComparison}(\"torque_cmd\", queue_size=1)\n",
    "    sub = Subscriber{franka_msgs.msg.FrankaState}(\"franka_state\", callback, (pub,), queue_size=10)\n",
    "    loop(pub)\n",
    "end\n"
   ]
  },
  {
   "cell_type": "code",
   "execution_count": null,
   "metadata": {
    "scrolled": true
   },
   "outputs": [
    {
     "name": "stderr",
     "output_type": "stream",
     "text": [
      "┌ Warning: `getindex(o::PyObject, s::Symbol)` is deprecated in favor of dot overloading (`getproperty`) so elements should now be accessed as e.g. `o.s` instead of `o[:s]`.\n",
      "│   caller = #init_node#8(::Base.Iterators.Pairs{Union{},Union{},Tuple{},NamedTuple{(),Tuple{}}}, ::Function, ::String) at rospy.jl:12\n",
      "└ @ RobotOS /home/franka/.julia/packages/RobotOS/FDNg2/src/rospy.jl:12\n",
      "┌ Warning: `getindex(o::PyObject, s::Symbol)` is deprecated in favor of dot overloading (`getproperty`) so elements should now be accessed as e.g. `o.s` instead of `o[:s]`.\n",
      "│   caller = (::getfield(RobotOS, Symbol(\"##call#9#10\")))(::Base.Iterators.Pairs{Symbol,Int64,Tuple{Symbol},NamedTuple{(:queue_size,),Tuple{Int64}}}, ::Type{Publisher{Main.franka_example_controllers.msg.JointTorqueComparison}}, ::String) at pubsub.jl:17\n",
      "└ @ RobotOS /home/franka/.julia/packages/RobotOS/FDNg2/src/pubsub.jl:17\n",
      "┌ Warning: `getindex(o::PyObject, s::AbstractString)` is deprecated in favor of dot overloading (`getproperty`) so elements should now be accessed as e.g. `o.\"s\"` instead of `o[\"s\"]`.\n",
      "│   caller = (::getfield(RobotOS, Symbol(\"##call#12#14\")))(::Base.Iterators.Pairs{Symbol,Int64,Tuple{Symbol},NamedTuple{(:queue_size,),Tuple{Int64}}}, ::Type{Subscriber{Main.franka_msgs.msg.FrankaState}}, ::String, ::Function, ::Tuple{Publisher{Main.franka_example_controllers.msg.JointTorqueComparison}}) at pubsub.jl:55\n",
      "└ @ RobotOS /home/franka/.julia/packages/RobotOS/FDNg2/src/pubsub.jl:55\n",
      "┌ Warning: `getindex(o::PyObject, s::Symbol)` is deprecated in favor of dot overloading (`getproperty`) so elements should now be accessed as e.g. `o.s` instead of `o[:s]`.\n",
      "│   caller = (::getfield(RobotOS, Symbol(\"##call#12#14\")))(::Base.Iterators.Pairs{Symbol,Int64,Tuple{Symbol},NamedTuple{(:queue_size,),Tuple{Int64}}}, ::Type{Subscriber{Main.franka_msgs.msg.FrankaState}}, ::String, ::Function, ::Tuple{Publisher{Main.franka_example_controllers.msg.JointTorqueComparison}}) at pubsub.jl:56\n",
      "└ @ RobotOS /home/franka/.julia/packages/RobotOS/FDNg2/src/pubsub.jl:56\n",
      "┌ Warning: `getindex(o::PyObject, s::AbstractString)` is deprecated in favor of dot overloading (`getproperty`) so elements should now be accessed as e.g. `o.\"s\"` instead of `o[\"s\"]`.\n",
      "│   caller = (::getfield(RobotOS, Symbol(\"##call#12#14\")))(::Base.Iterators.Pairs{Symbol,Int64,Tuple{Symbol},NamedTuple{(:queue_size,),Tuple{Int64}}}, ::Type{Subscriber{Main.franka_msgs.msg.FrankaState}}, ::String, ::Function, ::Tuple{Publisher{Main.franka_example_controllers.msg.JointTorqueComparison}}) at pubsub.jl:56\n",
      "└ @ RobotOS /home/franka/.julia/packages/RobotOS/FDNg2/src/pubsub.jl:56\n",
      "┌ Warning: `getindex(o::PyObject, s::Symbol)` is deprecated in favor of dot overloading (`getproperty`) so elements should now be accessed as e.g. `o.s` instead of `o[:s]`.\n",
      "│   caller = get_rostime() at time.jl:120\n",
      "└ @ RobotOS /home/franka/.julia/packages/RobotOS/FDNg2/src/time.jl:120\n",
      "┌ Warning: `getindex(o::PyObject, s::Symbol)` is deprecated in favor of dot overloading (`getproperty`) so elements should now be accessed as e.g. `o.s` instead of `o[:s]`.\n",
      "│   caller = is_shutdown() at rospy.jl:20\n",
      "└ @ RobotOS /home/franka/.julia/packages/RobotOS/FDNg2/src/rospy.jl:20\n",
      "┌ Warning: `getindex(o::PyObject, s::Symbol)` is deprecated in favor of dot overloading (`getproperty`) so elements should now be accessed as e.g. `o.s` instead of `o[:s]`.\n",
      "│   caller = convert(::Type{Time}, ::PyCall.PyObject) at time.jl:74\n",
      "└ @ RobotOS /home/franka/.julia/packages/RobotOS/FDNg2/src/time.jl:74\n",
      "┌ Warning: `getindex(o::PyObject, s::Symbol)` is deprecated in favor of dot overloading (`getproperty`) so elements should now be accessed as e.g. `o.s` instead of `o[:s]`.\n",
      "│   caller = convert(::Type{Time}, ::PyCall.PyObject) at time.jl:74\n",
      "└ @ RobotOS /home/franka/.julia/packages/RobotOS/FDNg2/src/time.jl:74\n",
      "┌ Warning: `getindex(o::PyObject, s::AbstractString)` is deprecated in favor of dot overloading (`getproperty`) so elements should now be accessed as e.g. `o.\"s\"` instead of `o[\"s\"]`.\n",
      "│   caller = publish(::Publisher{Main.franka_example_controllers.msg.JointTorqueComparison}, ::Main.franka_example_controllers.msg.JointTorqueComparison) at pubsub.jl:30\n",
      "└ @ RobotOS /home/franka/.julia/packages/RobotOS/FDNg2/src/pubsub.jl:30\n",
      "┌ Warning: `setindex!(o::PyObject, v, s::Union{Symbol, AbstractString})` is deprecated in favor of `setproperty!(o, s, v)`.\n",
      "│   caller = convert(::Type{PyCall.PyObject}, ::Main.franka_example_controllers.msg.JointTorqueComparison) at gentypes.jl:474\n",
      "└ @ Main.franka_example_controllers.msg /home/franka/.julia/packages/RobotOS/FDNg2/src/gentypes.jl:474\n",
      "┌ Warning: `setindex!(o::PyObject, v, s::Union{Symbol, AbstractString})` is deprecated in favor of `setproperty!(o, s, v)`.\n",
      "│   caller = convert(::Type{PyCall.PyObject}, ::Main.franka_example_controllers.msg.JointTorqueComparison) at gentypes.jl:474\n",
      "└ @ Main.franka_example_controllers.msg /home/franka/.julia/packages/RobotOS/FDNg2/src/gentypes.jl:474\n"
     ]
    }
   ],
   "source": [
    "main()"
   ]
  },
  {
   "cell_type": "code",
   "execution_count": null,
   "metadata": {},
   "outputs": [],
   "source": []
  }
 ],
 "metadata": {
  "kernelspec": {
   "display_name": "Julia 1.1.0",
   "language": "julia",
   "name": "julia-1.1"
  },
  "language_info": {
   "file_extension": ".jl",
   "mimetype": "application/julia",
   "name": "julia",
   "version": "1.1.0"
  }
 },
 "nbformat": 4,
 "nbformat_minor": 2
}
